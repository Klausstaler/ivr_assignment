{
 "cells": [
  {
   "cell_type": "code",
   "execution_count": 17,
   "metadata": {},
   "outputs": [
    {
     "data": {
      "text/latex": [
       "$\\displaystyle \\int e^{x} \\cos{\\left(x \\right)}\\, dx = \\frac{e^{x} \\sin{\\left(x \\right)}}{2} + \\frac{e^{x} \\cos{\\left(x \\right)}}{2}$"
      ],
      "text/plain": [
       "Eq(Integral(exp(x)*cos(x), x), exp(x)*sin(x)/2 + exp(x)*cos(x)/2)"
      ]
     },
     "execution_count": 17,
     "metadata": {},
     "output_type": "execute_result"
    }
   ],
   "source": [
    "from sympy import *\n",
    "from sympy.abc import theta\n",
    "\n",
    "x = symbols('x')\n",
    "\n",
    "a = Integral(cos(x)*exp(x), x)\n",
    "\n",
    "Eq(a, a.doit())\n",
    "Eq(Integral(exp(x)*cos(x), x), exp(x)*sin(x)/2 + exp(x)*cos(x)/2)"
   ]
  },
  {
   "cell_type": "markdown",
   "metadata": {},
   "source": [
    "You can spend 10 minutes trying to figure something out or 6 days to automate it"
   ]
  },
  {
   "cell_type": "code",
   "execution_count": 25,
   "metadata": {},
   "outputs": [],
   "source": [
    "from sympy.vector import BodyOrienter"
   ]
  },
  {
   "cell_type": "code",
   "execution_count": 33,
   "metadata": {},
   "outputs": [],
   "source": [
    "BodyOrienter?"
   ]
  },
  {
   "cell_type": "code",
   "execution_count": 39,
   "metadata": {},
   "outputs": [
    {
     "data": {
      "text/latex": [
       "$\\displaystyle \\left[\\begin{matrix}- \\sin{\\left(\\theta \\right)} & 1 & 1\\end{matrix}\\right]$"
      ],
      "text/plain": [
       "Matrix([[-sin(theta), 1, 1]])"
      ]
     },
     "execution_count": 39,
     "metadata": {},
     "output_type": "execute_result"
    }
   ],
   "source": [
    "Matrix([[-sin(theta), 1, 1]])"
   ]
  },
  {
   "cell_type": "code",
   "execution_count": 27,
   "metadata": {},
   "outputs": [],
   "source": [
    "test = eye(4)"
   ]
  },
  {
   "cell_type": "code",
   "execution_count": 31,
   "metadata": {},
   "outputs": [],
   "source": [
    "test[:-1, :-1] = zeros(3)"
   ]
  },
  {
   "cell_type": "code",
   "execution_count": 49,
   "metadata": {},
   "outputs": [
    {
     "data": {
      "text/latex": [
       "$\\displaystyle \\left[\\begin{matrix}1 & 0 & 0\\\\3 & 2 & 1\\end{matrix}\\right]$"
      ],
      "text/plain": [
       "Matrix([\n",
       "[1, 0, 0],\n",
       "[3, 2, 1]])"
      ]
     },
     "execution_count": 49,
     "metadata": {},
     "output_type": "execute_result"
    }
   ],
   "source": [
    "Matrix([[1, 0, 0],\n",
    "        [3, 2, 1]])"
   ]
  },
  {
   "cell_type": "code",
   "execution_count": 214,
   "metadata": {},
   "outputs": [],
   "source": [
    "def calc_trans(index, theta_missing=False, alpha_missing = False, d_missing=False, a_missing=False):\n",
    "    d, a = symbols(f\"d_{index}\"), symbols(f\"a_{index}\")\n",
    "    x_rot, x_trans, z_trans, z_rot = eye(4), eye(4), eye(4), eye(4)\n",
    "    alpha = f\"alpha_{index}\"\n",
    "    cos_alpha, sin_alpha = symbols(f\"cos_{alpha}\"), symbols(f\"sin_{alpha}\")\n",
    "    if not alpha_missing: x_rot[:-1, :-1] = Matrix([[1, 0, 0],\n",
    "                                                    [0, cos_alpha, -sin_alpha],\n",
    "                                                    [0, sin_alpha, -cos_alpha]])\n",
    "    if not a_missing: x_trans[0, -1] = a\n",
    "    \n",
    "    theta = f\"theta_{index}\"\n",
    "    cos_theta, sin_theta = symbols(f\"cos_{theta}\"), symbols(f\"sin_{theta}\")\n",
    "    if not theta_missing: z_rot[:-1, :-1] = Matrix([[cos_theta, -sin_theta, 0],\n",
    "                                                    [sin_theta, cos_theta, 0],\n",
    "                                                    [0, 0, 1]])\n",
    "    if not d_missing: z_trans[-2, -1] = d\n",
    "    return z_rot@z_trans@x_trans@x_rot, theta"
   ]
  },
  {
   "cell_type": "code",
   "execution_count": 223,
   "metadata": {},
   "outputs": [],
   "source": [
    "def calc_trans(index, theta_missing=False, alpha_missing = False, d_missing=False, a_missing=False):\n",
    "    theta, alpha, d, a = symbols(f\"theta_{index}\"), symbols(f\"alpha_{index}\"), symbols(f\"d_{index}\"), symbols(f\"a_{index}\")\n",
    "    x_rot, x_trans, z_trans, z_rot = eye(4), eye(4), eye(4), eye(4)\n",
    "    if not alpha_missing: x_rot[:-1, :-1] = Matrix([[1, 0, 0],\n",
    "                                                    [0, cos(alpha), -sin(alpha)],\n",
    "                                                    [0, sin(alpha), -cos(alpha)]])\n",
    "    if not a_missing: x_trans[0, -1] = a\n",
    "    if not theta_missing: z_rot[:-1, :-1] = Matrix([[cos(theta), -sin(theta), 0],\n",
    "                                                    [sin(theta), cos(theta), 0],\n",
    "                                                    [0, 0, 1]])\n",
    "    if not d_missing: z_trans[-2, -1] = d\n",
    "    return z_rot@z_trans@x_trans@x_rot, theta"
   ]
  },
  {
   "cell_type": "markdown",
   "metadata": {},
   "source": [
    "## Add offsets as on my sheet of paper!"
   ]
  },
  {
   "cell_type": "code",
   "execution_count": 224,
   "metadata": {},
   "outputs": [],
   "source": [
    "trans_mat0, theta0 = calc_trans(0, a_missing=True, alpha_missing=True)\n",
    "trans_mat1, theta1 = calc_trans(1, a_missing=True, d_missing=True)\n",
    "trans_mat2, theta2 = calc_trans(2, d_missing=True)\n",
    "trans_mat3, theta3 = calc_trans(3, d_missing=True)"
   ]
  },
  {
   "cell_type": "code",
   "execution_count": 225,
   "metadata": {},
   "outputs": [],
   "source": [
    "final_mat = trans_mat3@trans_mat2@trans_mat1@trans_mat0"
   ]
  },
  {
   "cell_type": "code",
   "execution_count": 226,
   "metadata": {},
   "outputs": [],
   "source": [
    "derivatives = Matrix([theta0, theta1, theta2, theta3])"
   ]
  },
  {
   "cell_type": "code",
   "execution_count": 227,
   "metadata": {},
   "outputs": [],
   "source": [
    "x_y_z = final_mat[:-1, -1]\n",
    "jacobian = x_y_z.jacobian(derivatives)"
   ]
  },
  {
   "cell_type": "code",
   "execution_count": 240,
   "metadata": {},
   "outputs": [
    {
     "data": {
      "text/latex": [
       "$\\displaystyle \\left[\\begin{matrix}d_{0} \\sin{\\left(\\alpha_{1} \\right)} \\sin{\\left(\\theta_{1} \\right)}\\\\- d_{0} \\sin{\\left(\\alpha_{1} \\right)} \\cos{\\left(\\theta_{1} \\right)}\\\\- d_{0} \\cos{\\left(\\alpha_{1} \\right)}\\end{matrix}\\right]$"
      ],
      "text/plain": [
       "Matrix([\n",
       "[ d_0*sin(alpha_1)*sin(theta_1)],\n",
       "[-d_0*sin(alpha_1)*cos(theta_1)],\n",
       "[             -d_0*cos(alpha_1)]])"
      ]
     },
     "execution_count": 240,
     "metadata": {},
     "output_type": "execute_result"
    }
   ],
   "source": [
    "tran"
   ]
  },
  {
   "cell_type": "code",
   "execution_count": 238,
   "metadata": {},
   "outputs": [
    {
     "data": {
      "text/latex": [
       "$\\displaystyle \\left[\\begin{matrix}0 & d_{0} \\sin{\\left(\\alpha_{1} \\right)} \\cos{\\left(\\theta_{1} \\right)}\\\\0 & d_{0} \\sin{\\left(\\alpha_{1} \\right)} \\sin{\\left(\\theta_{1} \\right)}\\\\0 & 0\\end{matrix}\\right]$"
      ],
      "text/plain": [
       "Matrix([\n",
       "[0, d_0*sin(alpha_1)*cos(theta_1)],\n",
       "[0, d_0*sin(alpha_1)*sin(theta_1)],\n",
       "[0,                             0]])"
      ]
     },
     "execution_count": 238,
     "metadata": {},
     "output_type": "execute_result"
    }
   ],
   "source": [
    "final_mat = trans_mat1@trans_mat0\n",
    "derivatives = Matrix([theta0, theta1])\n",
    "x_y_z = final_mat[:-1, -1]\n",
    "jacobian = x_y_z.jacobian(derivatives)\n",
    "jacobian"
   ]
  },
  {
   "cell_type": "code",
   "execution_count": 114,
   "metadata": {},
   "outputs": [
    {
     "data": {
      "text/latex": [
       "$\\displaystyle \\left[\\begin{matrix}- \\sin{\\left(\\theta_{0} \\right)} \\sin{\\left(\\theta_{1} \\right)} \\cos{\\left(\\alpha_{1} \\right)} + \\cos{\\left(\\theta_{0} \\right)} \\cos{\\left(\\theta_{1} \\right)} & - \\sin{\\left(\\theta_{0} \\right)} \\cos{\\left(\\theta_{1} \\right)} - \\sin{\\left(\\theta_{1} \\right)} \\cos{\\left(\\alpha_{1} \\right)} \\cos{\\left(\\theta_{0} \\right)} & \\sin{\\left(\\alpha_{1} \\right)} \\sin{\\left(\\theta_{1} \\right)} & d_{0} \\sin{\\left(\\alpha_{1} \\right)} \\sin{\\left(\\theta_{1} \\right)}\\\\\\sin{\\left(\\theta_{0} \\right)} \\cos{\\left(\\alpha_{1} \\right)} \\cos{\\left(\\theta_{1} \\right)} + \\sin{\\left(\\theta_{1} \\right)} \\cos{\\left(\\theta_{0} \\right)} & - \\sin{\\left(\\theta_{0} \\right)} \\sin{\\left(\\theta_{1} \\right)} + \\cos{\\left(\\alpha_{1} \\right)} \\cos{\\left(\\theta_{0} \\right)} \\cos{\\left(\\theta_{1} \\right)} & - \\sin{\\left(\\alpha_{1} \\right)} \\cos{\\left(\\theta_{1} \\right)} & - d_{0} \\sin{\\left(\\alpha_{1} \\right)} \\cos{\\left(\\theta_{1} \\right)}\\\\\\sin{\\left(\\alpha_{1} \\right)} \\sin{\\left(\\theta_{0} \\right)} & \\sin{\\left(\\alpha_{1} \\right)} \\cos{\\left(\\theta_{0} \\right)} & - \\cos{\\left(\\alpha_{1} \\right)} & - d_{0} \\cos{\\left(\\alpha_{1} \\right)}\\\\0 & 0 & 0 & 1\\end{matrix}\\right]$"
      ],
      "text/plain": [
       "Matrix([\n",
       "[-sin(theta_0)*sin(theta_1)*cos(alpha_1) + cos(theta_0)*cos(theta_1), -sin(theta_0)*cos(theta_1) - sin(theta_1)*cos(alpha_1)*cos(theta_0),  sin(alpha_1)*sin(theta_1),  d_0*sin(alpha_1)*sin(theta_1)],\n",
       "[ sin(theta_0)*cos(alpha_1)*cos(theta_1) + sin(theta_1)*cos(theta_0), -sin(theta_0)*sin(theta_1) + cos(alpha_1)*cos(theta_0)*cos(theta_1), -sin(alpha_1)*cos(theta_1), -d_0*sin(alpha_1)*cos(theta_1)],\n",
       "[                                          sin(alpha_1)*sin(theta_0),                                           sin(alpha_1)*cos(theta_0),              -cos(alpha_1),              -d_0*cos(alpha_1)],\n",
       "[                                                                  0,                                                                   0,                          0,                              1]])"
      ]
     },
     "execution_count": 114,
     "metadata": {},
     "output_type": "execute_result"
    }
   ],
   "source": [
    "final_mat"
   ]
  },
  {
   "cell_type": "code",
   "execution_count": 116,
   "metadata": {},
   "outputs": [],
   "source": [
    "d_2 = symbols(\"d_2\")"
   ]
  },
  {
   "cell_type": "code",
   "execution_count": 118,
   "metadata": {},
   "outputs": [],
   "source": [
    "res = Matrix([d_2*cos(theta1) + d2*cos()])"
   ]
  },
  {
   "cell_type": "code",
   "execution_count": 119,
   "metadata": {},
   "outputs": [
    {
     "data": {
      "text/latex": [
       "$\\displaystyle \\left[\\begin{matrix}d_{2} \\cos{\\left(\\theta_{1} \\right)}\\end{matrix}\\right]$"
      ],
      "text/plain": [
       "Matrix([[d_2*cos(theta_1)]])"
      ]
     },
     "execution_count": 119,
     "metadata": {},
     "output_type": "execute_result"
    }
   ],
   "source": [
    "res"
   ]
  },
  {
   "cell_type": "code",
   "execution_count": 113,
   "metadata": {},
   "outputs": [
    {
     "data": {
      "text/latex": [
       "$\\displaystyle \\left[\\begin{matrix}d_{0} \\sin{\\left(\\alpha_{1} \\right)} \\sin{\\left(\\theta_{1} \\right)}\\\\- d_{0} \\sin{\\left(\\alpha_{1} \\right)} \\cos{\\left(\\theta_{1} \\right)}\\\\- d_{0} \\cos{\\left(\\alpha_{1} \\right)}\\end{matrix}\\right]$"
      ],
      "text/plain": [
       "Matrix([\n",
       "[ d_0*sin(alpha_1)*sin(theta_1)],\n",
       "[-d_0*sin(alpha_1)*cos(theta_1)],\n",
       "[             -d_0*cos(alpha_1)]])"
      ]
     },
     "execution_count": 113,
     "metadata": {},
     "output_type": "execute_result"
    }
   ],
   "source": [
    "x_y_z"
   ]
  },
  {
   "cell_type": "code",
   "execution_count": 88,
   "metadata": {},
   "outputs": [
    {
     "data": {
      "text/latex": [
       "$\\displaystyle \\left[\\begin{matrix}0\\\\0\\\\0\\end{matrix}\\right]$"
      ],
      "text/plain": [
       "Matrix([\n",
       "[0],\n",
       "[0],\n",
       "[0]])"
      ]
     },
     "execution_count": 88,
     "metadata": {},
     "output_type": "execute_result"
    }
   ],
   "source": [
    "state_vec = mat[:-1, -1]\n",
    "state_vec.jacobian(Matrix([theta1]))"
   ]
  },
  {
   "cell_type": "code",
   "execution_count": 2,
   "metadata": {},
   "outputs": [
    {
     "data": {
      "text/latex": [
       "$\\displaystyle \\left[\\begin{matrix}\\cos{\\left(\\phi \\right)} & - \\rho \\sin{\\left(\\phi \\right)}\\\\\\sin{\\left(\\phi \\right)} & \\rho \\cos{\\left(\\phi \\right)}\\end{matrix}\\right]$"
      ],
      "text/plain": [
       "Matrix([\n",
       "[cos(phi), -rho*sin(phi)],\n",
       "[sin(phi),  rho*cos(phi)]])"
      ]
     },
     "execution_count": 2,
     "metadata": {},
     "output_type": "execute_result"
    }
   ],
   "source": [
    "from sympy import sin, cos, Matrix\n",
    "\n",
    "from sympy.abc import rho, phi\n",
    "\n",
    "X = Matrix([rho*cos(phi), rho*sin(phi), rho**2])\n",
    "\n",
    "Y = Matrix([rho, phi])\n",
    "\n",
    "X.jacobian(Y)\n",
    "Matrix([\n",
    "[cos(phi), -rho*sin(phi)],\n",
    "[sin(phi),  rho*cos(phi)],\n",
    "[   2*rho,             0]])\n",
    "\n",
    "X = Matrix([rho*cos(phi), rho*sin(phi)])\n",
    "\n",
    "X.jacobian(Y)"
   ]
  },
  {
   "cell_type": "code",
   "execution_count": 3,
   "metadata": {},
   "outputs": [
    {
     "data": {
      "text/latex": [
       "$\\displaystyle \\left[\\begin{matrix}\\rho \\cos{\\left(\\phi \\right)}\\\\\\rho \\sin{\\left(\\phi \\right)}\\end{matrix}\\right]$"
      ],
      "text/plain": [
       "Matrix([\n",
       "[rho*cos(phi)],\n",
       "[rho*sin(phi)]])"
      ]
     },
     "execution_count": 3,
     "metadata": {},
     "output_type": "execute_result"
    }
   ],
   "source": [
    "X"
   ]
  }
 ],
 "metadata": {
  "kernelspec": {
   "display_name": "Python 3",
   "language": "python",
   "name": "python3"
  },
  "language_info": {
   "codemirror_mode": {
    "name": "ipython",
    "version": 3
   },
   "file_extension": ".py",
   "mimetype": "text/x-python",
   "name": "python",
   "nbconvert_exporter": "python",
   "pygments_lexer": "ipython3",
   "version": "3.8.5"
  }
 },
 "nbformat": 4,
 "nbformat_minor": 4
}
