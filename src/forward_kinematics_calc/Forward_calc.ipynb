{
 "cells": [
  {
   "cell_type": "code",
   "execution_count": 1,
   "metadata": {},
   "outputs": [],
   "source": [
    "import numpy as np\n",
    "from scipy.spatial.transform import Rotation as R"
   ]
  },
  {
   "cell_type": "code",
   "execution_count": 2,
   "metadata": {},
   "outputs": [],
   "source": [
    "def calc_trans(theta=0.0, d=0.0, a=0.0, alpha=0.0):\n",
    "    x_rot, x_trans, z_trans, z_rot = np.eye(4), np.eye(4), np.eye(4), np.eye(4)\n",
    "    x_rot[:-1, :-1] = R.from_euler(\"xyz\", [alpha, 0, 0]).as_matrix()\n",
    "    x_trans[0, -1] = a\n",
    "    z_rot[:-1, :-1] = R.from_euler(\"xyz\", [0, 0, theta]).as_matrix()\n",
    "    z_trans[-2, -1] = d\n",
    "    \n",
    "    return z_rot@z_trans@x_trans@x_rot\n",
    "def link_length(joint_start, joint_end, real_length):\n",
    "    dist = np.sum((joint_start - joint_end)**2)\n",
    "    return real_length / np.sqrt(dist) # link length in pixels"
   ]
  },
  {
   "cell_type": "code",
   "execution_count": 3,
   "metadata": {},
   "outputs": [],
   "source": [
    "mat = calc_trans(theta=np.pi, alpha=np.pi, a=1, d=3)"
   ]
  },
  {
   "cell_type": "code",
   "execution_count": 4,
   "metadata": {},
   "outputs": [
    {
     "ename": "NameError",
     "evalue": "name 'yellow_pos' is not defined",
     "output_type": "error",
     "traceback": [
      "\u001b[0;31m---------------------------------------------------------------------------\u001b[0m",
      "\u001b[0;31mNameError\u001b[0m                                 Traceback (most recent call last)",
      "\u001b[0;32m<ipython-input-4-e5abe239293b>\u001b[0m in \u001b[0;36m<module>\u001b[0;34m\u001b[0m\n\u001b[0;32m----> 1\u001b[0;31m \u001b[0mlink1_len\u001b[0m \u001b[0;34m=\u001b[0m \u001b[0mlink_length\u001b[0m\u001b[0;34m(\u001b[0m\u001b[0myellow_pos\u001b[0m\u001b[0;34m,\u001b[0m \u001b[0mblue_pos\u001b[0m\u001b[0;34m,\u001b[0m \u001b[0;36m2.5\u001b[0m\u001b[0;34m)\u001b[0m\u001b[0;34m\u001b[0m\u001b[0;34m\u001b[0m\u001b[0m\n\u001b[0m\u001b[1;32m      2\u001b[0m \u001b[0mlink2_len\u001b[0m \u001b[0;34m=\u001b[0m \u001b[0;36m0\u001b[0m\u001b[0;34m\u001b[0m\u001b[0;34m\u001b[0m\u001b[0m\n\u001b[1;32m      3\u001b[0m \u001b[0mlink3_len\u001b[0m \u001b[0;34m=\u001b[0m \u001b[0mlink_length\u001b[0m\u001b[0;34m(\u001b[0m\u001b[0mblue_pos\u001b[0m\u001b[0;34m,\u001b[0m \u001b[0mgreen_pos\u001b[0m\u001b[0;34m,\u001b[0m \u001b[0;36m3.5\u001b[0m\u001b[0;34m)\u001b[0m\u001b[0;34m\u001b[0m\u001b[0;34m\u001b[0m\u001b[0m\n\u001b[1;32m      4\u001b[0m \u001b[0mlink4_len\u001b[0m \u001b[0;34m=\u001b[0m \u001b[0mlink_length\u001b[0m\u001b[0;34m(\u001b[0m\u001b[0mgreen_pos\u001b[0m\u001b[0;34m,\u001b[0m \u001b[0mred_pos\u001b[0m\u001b[0;34m,\u001b[0m \u001b[0;36m3\u001b[0m\u001b[0;34m)\u001b[0m\u001b[0;34m\u001b[0m\u001b[0;34m\u001b[0m\u001b[0m\n",
      "\u001b[0;31mNameError\u001b[0m: name 'yellow_pos' is not defined"
     ]
    }
   ],
   "source": [
    "link1_len = link_length(yellow_pos, blue_pos, 2.5)\n",
    "link2_len = 0\n",
    "link3_len = link_length(blue_pos, green_pos, 3.5)\n",
    "link4_len = link_length(green_pos, red_pos, 3)"
   ]
  },
  {
   "cell_type": "code",
   "execution_count": 6,
   "metadata": {},
   "outputs": [],
   "source": [
    "link1_theta, link2_theta, link3_theta, link4_theta = 0, 0, 0, 0"
   ]
  },
  {
   "cell_type": "code",
   "execution_count": 33,
   "metadata": {},
   "outputs": [],
   "source": [
    "link1_mat = calc_trans(link1_theta + np.pi/2, 2.5, alpha=np.pi/2)\n",
    "link2_mat = calc_trans(link2_theta + np.pi/2, 0, 0, alpha=np.pi/2)\n",
    "link3_mat = calc_trans(link3_theta, 0, 3.5, np.pi/2)\n",
    "link4_mat = calc_trans(link4_theta, 0, 3, np.pi/2)"
   ]
  },
  {
   "cell_type": "code",
   "execution_count": 34,
   "metadata": {},
   "outputs": [],
   "source": [
    "joints_to_pos = (link4_mat@link3_mat@link2_mat@link1_mat)"
   ]
  },
  {
   "cell_type": "code",
   "execution_count": 40,
   "metadata": {},
   "outputs": [
    {
     "data": {
      "text/plain": [
       "array([ 9.00000000e+00,  5.55111512e-16, -5.55111512e-16])"
      ]
     },
     "execution_count": 40,
     "metadata": {},
     "output_type": "execute_result"
    }
   ],
   "source": [
    "joints_to_pos[:-1, -1]"
   ]
  },
  {
   "cell_type": "code",
   "execution_count": 72,
   "metadata": {
    "collapsed": true
   },
   "outputs": [],
   "source": [
    "link1_trans = calc_trans()"
   ]
  }
 ],
 "metadata": {
  "kernelspec": {
   "display_name": "Python 3",
   "language": "python",
   "name": "python3"
  },
  "language_info": {
   "codemirror_mode": {
    "name": "ipython",
    "version": 3
   },
   "file_extension": ".py",
   "mimetype": "text/x-python",
   "name": "python",
   "nbconvert_exporter": "python",
   "pygments_lexer": "ipython3",
   "version": "3.8.5"
  }
 },
 "nbformat": 4,
 "nbformat_minor": 4
}
