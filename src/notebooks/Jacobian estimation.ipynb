{
 "cells": [
  {
   "cell_type": "code",
   "execution_count": 1,
   "metadata": {},
   "outputs": [],
   "source": [
    "import numpy as np\n",
    "from sympy import *"
   ]
  },
  {
   "cell_type": "code",
   "execution_count": 2,
   "metadata": {},
   "outputs": [],
   "source": [
    "class Link:\n",
    "    def __init__(self, theta=0.0, a=0.0, d=0.0, alpha=.0):\n",
    "        self.angle, self.theta, self.a, self.d, self.alpha = 0, theta, a, d, alpha\n",
    "\n",
    "    def calc_trans(self):\n",
    "        x_rot, x_trans, z_trans, z_rot = np.eye(4), np.eye(4), np.eye(4), np.eye(4)\n",
    "        x_rot[:-1, :-1] = R.from_euler(\"xyz\", [self.alpha, 0, 0]).as_matrix()\n",
    "        x_trans[0, -1] = self.a\n",
    "        z_rot[:-1, :-1] = R.from_euler(\"xyz\", [0, 0, self.theta + self.angle]).as_matrix()\n",
    "        z_trans[-2, -1] = self.d\n",
    "\n",
    "        return z_rot @ z_trans @ x_trans @ x_rot\n",
    "class Robot:\n",
    "    def __init__(self, link1, link2, link3, link4):\n",
    "        self.link1, self.link2, self.link3, self.link4 = link1, link2, link3, link4\n",
    "\n",
    "    def update_effector_estimate(self):\n",
    "        link1_mat = self.link1.calc_trans()\n",
    "        link2_mat = self.link2.calc_trans()\n",
    "        link3_mat = self.link3.calc_trans()\n",
    "        link4_mat = self.link4.calc_trans()\n",
    "        joint_to_pos = (link1_mat @ link2_mat @ link3_mat @ link4_mat)[:-1, -1]\n",
    "        return joint_to_pos\n",
    "\n",
    "link1 = Link(theta=pi/2, d=2.5, alpha=pi/2)\n",
    "link2 = Link(theta=pi/2, alpha=pi/2)\n",
    "link3 = Link(a=3.5, alpha=-pi/2)\n",
    "link4 = Link(a=3)\n",
    "robot = Robot(link1, link2, link3, link4)"
   ]
  },
  {
   "cell_type": "code",
   "execution_count": 3,
   "metadata": {},
   "outputs": [],
   "source": [
    "def calc_trans(theta, d=0.0, a=0.0, alpha=0.0):\n",
    "    x_rot, x_trans, z_trans, z_rot = eye(4), eye(4), eye(4), eye(4)\n",
    "    x_rot[:-1, :-1] = Matrix([[1, 0, 0],\n",
    "                                                    [0, cos(alpha), -sin(alpha)],\n",
    "                                                    [0, sin(alpha), -cos(alpha)]])\n",
    "    x_trans[0, -1] = a\n",
    "    z_rot[:-1, :-1] = Matrix([[cos(theta), -sin(theta), 0],\n",
    "                                                    [sin(theta), cos(theta), 0],\n",
    "                                                    [0, 0, 1]])\n",
    "    z_trans[-2, -1] = d\n",
    "    return z_rot@z_trans@x_trans@x_rot"
   ]
  },
  {
   "cell_type": "code",
   "execution_count": 4,
   "metadata": {},
   "outputs": [],
   "source": [
    "t1, t2, t3, t4 = symbols(\"theta_1\"), symbols(\"theta_2\"), symbols(\"theta_3\"), symbols(\"theta_4\")\n",
    "link1, link2, link3, link4 = robot.link1, robot.link2, robot.link3, robot.link4\n",
    "link1_mat = calc_trans(t1+link1.theta, d=link2.d, alpha=link1.alpha)\n",
    "link2_mat = calc_trans(t2+link2.theta, alpha=link2.alpha)\n",
    "link3_mat = calc_trans(t3, a=link3.a, alpha=-link3.alpha)\n",
    "link4_mat = calc_trans(t4, a=link4.a)\n",
    "fk = (link1_mat@link2_mat@link3_mat@link4_mat)[:3, -1]\n",
    "jac = fk.jacobian([t1, t2, t3, t4])"
   ]
  },
  {
   "cell_type": "code",
   "execution_count": 5,
   "metadata": {},
   "outputs": [],
   "source": [
    "full_fk = (link1_mat@link2_mat@link3_mat@link4_mat)\n",
    "with open(\"forward_rotation.tex\", \"w\") as f:\n",
    "    f.write(latex(full_fk[:-1, :-1], mode=\"equation\", mat_delim=\"(\", mat_str=\"array\"))\n"
   ]
  },
  {
   "cell_type": "code",
   "execution_count": 6,
   "metadata": {},
   "outputs": [],
   "source": [
    "x_y_z = Matrix([symbols(\"x_e\"), symbols(\"y_e\"), symbols(\"z_e\")])"
   ]
  },
  {
   "cell_type": "code",
   "execution_count": 7,
   "metadata": {},
   "outputs": [
    {
     "data": {
      "text/latex": [
       "$\\displaystyle \\theta_{1}$"
      ],
      "text/plain": [
       "theta_1"
      ]
     },
     "execution_count": 7,
     "metadata": {},
     "output_type": "execute_result"
    }
   ],
   "source": [
    "symbols(\"theta_1\")"
   ]
  },
  {
   "cell_type": "code",
   "execution_count": 8,
   "metadata": {},
   "outputs": [],
   "source": [
    "eq_xyz = Eq(x_y_z, full_fk[:-1, -1])\n",
    "for i,sym in enumerate((t1, t2, t3, t4)):\n",
    "    for sub, func in zip((\"s\", \"c\"), (sin, cos)):\n",
    "        idx = i+1\n",
    "        eq_xyz = eq_xyz.replace(func(sym), symbols(f\"{sub}_{sym}\"))"
   ]
  },
  {
   "cell_type": "code",
   "execution_count": 9,
   "metadata": {},
   "outputs": [
    {
     "data": {
      "text/latex": [
       "$\\displaystyle \\left[\\begin{matrix}x_{e}\\\\y_{e}\\\\z_{e}\\end{matrix}\\right] = \\left[\\begin{matrix}3.5 c_{\\theta 1} s_{\\theta 3} - 3 c_{\\theta 2} s_{\\theta 1} s_{\\theta 4} + 3.5 c_{\\theta 3} s_{\\theta 1} s_{\\theta 2} + 3 c_{\\theta 4} \\left(c_{\\theta 1} s_{\\theta 3} + c_{\\theta 3} s_{\\theta 1} s_{\\theta 2}\\right)\\\\3 c_{\\theta 1} c_{\\theta 2} s_{\\theta 4} - 3.5 c_{\\theta 1} c_{\\theta 3} s_{\\theta 2} + 3 c_{\\theta 4} \\left(- c_{\\theta 1} c_{\\theta 3} s_{\\theta 2} + s_{\\theta 1} s_{\\theta 3}\\right) + 3.5 s_{\\theta 1} s_{\\theta 3}\\\\3 c_{\\theta 2} c_{\\theta 3} c_{\\theta 4} + 3.5 c_{\\theta 2} c_{\\theta 3} + 3 s_{\\theta 2} s_{\\theta 4}\\end{matrix}\\right]$"
      ],
      "text/plain": [
       "Eq(Matrix([\n",
       "[x_e],\n",
       "[y_e],\n",
       "[z_e]]), Matrix([\n",
       "[ 3.5*c_theta_1*s_theta_3 - 3*c_theta_2*s_theta_1*s_theta_4 + 3.5*c_theta_3*s_theta_1*s_theta_2 + 3*c_theta_4*(c_theta_1*s_theta_3 + c_theta_3*s_theta_1*s_theta_2)],\n",
       "[3*c_theta_1*c_theta_2*s_theta_4 - 3.5*c_theta_1*c_theta_3*s_theta_2 + 3*c_theta_4*(-c_theta_1*c_theta_3*s_theta_2 + s_theta_1*s_theta_3) + 3.5*s_theta_1*s_theta_3],\n",
       "[                                                                                 3*c_theta_2*c_theta_3*c_theta_4 + 3.5*c_theta_2*c_theta_3 + 3*s_theta_2*s_theta_4]]))"
      ]
     },
     "execution_count": 9,
     "metadata": {},
     "output_type": "execute_result"
    }
   ],
   "source": [
    "eq_xyz"
   ]
  },
  {
   "cell_type": "code",
   "execution_count": 10,
   "metadata": {},
   "outputs": [
    {
     "data": {
      "text/latex": [
       "$\\displaystyle \\left[\\begin{matrix}x_{e}\\\\y_{e}\\\\z_{e}\\end{matrix}\\right] = \\left[\\begin{matrix}3.5 c_{\\theta 1} s_{\\theta 3} - 3 c_{\\theta 2} s_{\\theta 1} s_{\\theta 4} + 3.5 c_{\\theta 3} s_{\\theta 1} s_{\\theta 2} + 3 c_{\\theta 4} \\left(c_{\\theta 1} s_{\\theta 3} + c_{\\theta 3} s_{\\theta 1} s_{\\theta 2}\\right)\\\\3 c_{\\theta 1} c_{\\theta 2} s_{\\theta 4} - 3.5 c_{\\theta 1} c_{\\theta 3} s_{\\theta 2} + 3 c_{\\theta 4} \\left(- c_{\\theta 1} c_{\\theta 3} s_{\\theta 2} + s_{\\theta 1} s_{\\theta 3}\\right) + 3.5 s_{\\theta 1} s_{\\theta 3}\\\\3 c_{\\theta 2} c_{\\theta 3} c_{\\theta 4} + 3.5 c_{\\theta 2} c_{\\theta 3} + 3 s_{\\theta 2} s_{\\theta 4}\\end{matrix}\\right]$"
      ],
      "text/plain": [
       "Eq(Matrix([\n",
       "[x_e],\n",
       "[y_e],\n",
       "[z_e]]), Matrix([\n",
       "[ 3.5*c_theta_1*s_theta_3 - 3*c_theta_2*s_theta_1*s_theta_4 + 3.5*c_theta_3*s_theta_1*s_theta_2 + 3*c_theta_4*(c_theta_1*s_theta_3 + c_theta_3*s_theta_1*s_theta_2)],\n",
       "[3*c_theta_1*c_theta_2*s_theta_4 - 3.5*c_theta_1*c_theta_3*s_theta_2 + 3*c_theta_4*(-c_theta_1*c_theta_3*s_theta_2 + s_theta_1*s_theta_3) + 3.5*s_theta_1*s_theta_3],\n",
       "[                                                                                 3*c_theta_2*c_theta_3*c_theta_4 + 3.5*c_theta_2*c_theta_3 + 3*s_theta_2*s_theta_4]]))"
      ]
     },
     "execution_count": 10,
     "metadata": {},
     "output_type": "execute_result"
    }
   ],
   "source": [
    "eq_xyz.replace(sin(t1), symbols(\"sin_\"))"
   ]
  },
  {
   "cell_type": "code",
   "execution_count": 11,
   "metadata": {},
   "outputs": [],
   "source": [
    "preview(eq_xyz, viewer='file', filename='x_y_z.png', dvioptions=['-D','120'])"
   ]
  },
  {
   "cell_type": "code",
   "execution_count": 12,
   "metadata": {},
   "outputs": [],
   "source": [
    "x, y, z = symbols(\"x\"), symbols(\"y\"), symbols(\"z\")\n",
    "partial = symbols(\"\\partial\")\n",
    "with evaluate(False):\n",
    "    left_side = Matrix([[(partial*coord)/(partial*angle) for angle in (t1, t2, t3, t4)] for coord in (x,y,z)])"
   ]
  },
  {
   "cell_type": "code",
   "execution_count": 13,
   "metadata": {},
   "outputs": [
    {
     "data": {
      "text/latex": [
       "$\\displaystyle \\left[\\begin{matrix}\\frac{\\partial x}{\\partial \\theta_{1}} & \\frac{\\partial x}{\\partial \\theta_{2}} & \\frac{\\partial x}{\\partial \\theta_{3}} & \\frac{\\partial x}{\\partial \\theta_{4}}\\\\\\frac{\\partial y}{\\partial \\theta_{1}} & \\frac{\\partial y}{\\partial \\theta_{2}} & \\frac{\\partial y}{\\partial \\theta_{3}} & \\frac{\\partial y}{\\partial \\theta_{4}}\\\\\\frac{\\partial z}{\\partial \\theta_{1}} & \\frac{\\partial z}{\\partial \\theta_{2}} & \\frac{\\partial z}{\\partial \\theta_{3}} & \\frac{\\partial z}{\\partial \\theta_{4}}\\end{matrix}\\right]$"
      ],
      "text/plain": [
       "Matrix([\n",
       "[(\\partial*x)/((\\partial*theta_1)), (\\partial*x)/((\\partial*theta_2)), (\\partial*x)/((\\partial*theta_3)), (\\partial*x)/((\\partial*theta_4))],\n",
       "[(\\partial*y)/((\\partial*theta_1)), (\\partial*y)/((\\partial*theta_2)), (\\partial*y)/((\\partial*theta_3)), (\\partial*y)/((\\partial*theta_4))],\n",
       "[(\\partial*z)/((\\partial*theta_1)), (\\partial*z)/((\\partial*theta_2)), (\\partial*z)/((\\partial*theta_3)), (\\partial*z)/((\\partial*theta_4))]])"
      ]
     },
     "execution_count": 13,
     "metadata": {},
     "output_type": "execute_result"
    }
   ],
   "source": [
    "left_side"
   ]
  },
  {
   "cell_type": "code",
   "execution_count": 14,
   "metadata": {},
   "outputs": [],
   "source": [
    "for col_idx in range(4):\n",
    "    eq_jac = Eq(left_side[:, col_idx], jac[:, col_idx])\n",
    "    for i,sym in enumerate((t1, t2, t3, t4)):\n",
    "        for sub, func in zip((\"s\", \"c\"), (sin, cos)):\n",
    "            eq_jac = eq_jac.replace(func(sym), symbols(f\"{sub}_{sym}\"))\n",
    "    preview(eq_jac, viewer='file', filename=f'jac_col{col_idx+1}.png', dvioptions=['-D','120'])"
   ]
  },
  {
   "cell_type": "code",
   "execution_count": 15,
   "metadata": {},
   "outputs": [
    {
     "data": {
      "text/latex": [
       "$\\displaystyle \\left[\\begin{matrix}\\frac{\\partial x}{\\partial \\theta_{1}} & \\frac{\\partial x}{\\partial \\theta_{2}} & \\frac{\\partial x}{\\partial \\theta_{3}} & \\frac{\\partial x}{\\partial \\theta_{4}}\\\\\\frac{\\partial y}{\\partial \\theta_{1}} & \\frac{\\partial y}{\\partial \\theta_{2}} & \\frac{\\partial y}{\\partial \\theta_{3}} & \\frac{\\partial y}{\\partial \\theta_{4}}\\\\\\frac{\\partial z}{\\partial \\theta_{1}} & \\frac{\\partial z}{\\partial \\theta_{2}} & \\frac{\\partial z}{\\partial \\theta_{3}} & \\frac{\\partial z}{\\partial \\theta_{4}}\\end{matrix}\\right] = \\left[\\begin{matrix}\\left(- 3 \\sin{\\left(\\theta_{1} \\right)} \\sin{\\left(\\theta_{3} \\right)} + 3 \\sin{\\left(\\theta_{2} \\right)} \\cos{\\left(\\theta_{1} \\right)} \\cos{\\left(\\theta_{3} \\right)}\\right) \\cos{\\left(\\theta_{4} \\right)} - 3.5 \\sin{\\left(\\theta_{1} \\right)} \\sin{\\left(\\theta_{3} \\right)} + 3.5 \\sin{\\left(\\theta_{2} \\right)} \\cos{\\left(\\theta_{1} \\right)} \\cos{\\left(\\theta_{3} \\right)} - 3 \\sin{\\left(\\theta_{4} \\right)} \\cos{\\left(\\theta_{1} \\right)} \\cos{\\left(\\theta_{2} \\right)} & 3 \\sin{\\left(\\theta_{1} \\right)} \\sin{\\left(\\theta_{2} \\right)} \\sin{\\left(\\theta_{4} \\right)} + 3 \\sin{\\left(\\theta_{1} \\right)} \\cos{\\left(\\theta_{2} \\right)} \\cos{\\left(\\theta_{3} \\right)} \\cos{\\left(\\theta_{4} \\right)} + 3.5 \\sin{\\left(\\theta_{1} \\right)} \\cos{\\left(\\theta_{2} \\right)} \\cos{\\left(\\theta_{3} \\right)} & \\left(- 3 \\sin{\\left(\\theta_{1} \\right)} \\sin{\\left(\\theta_{2} \\right)} \\sin{\\left(\\theta_{3} \\right)} + 3 \\cos{\\left(\\theta_{1} \\right)} \\cos{\\left(\\theta_{3} \\right)}\\right) \\cos{\\left(\\theta_{4} \\right)} - 3.5 \\sin{\\left(\\theta_{1} \\right)} \\sin{\\left(\\theta_{2} \\right)} \\sin{\\left(\\theta_{3} \\right)} + 3.5 \\cos{\\left(\\theta_{1} \\right)} \\cos{\\left(\\theta_{3} \\right)} & - \\left(3 \\sin{\\left(\\theta_{1} \\right)} \\sin{\\left(\\theta_{2} \\right)} \\cos{\\left(\\theta_{3} \\right)} + 3 \\sin{\\left(\\theta_{3} \\right)} \\cos{\\left(\\theta_{1} \\right)}\\right) \\sin{\\left(\\theta_{4} \\right)} - 3 \\sin{\\left(\\theta_{1} \\right)} \\cos{\\left(\\theta_{2} \\right)} \\cos{\\left(\\theta_{4} \\right)}\\\\\\left(3 \\sin{\\left(\\theta_{1} \\right)} \\sin{\\left(\\theta_{2} \\right)} \\cos{\\left(\\theta_{3} \\right)} + 3 \\sin{\\left(\\theta_{3} \\right)} \\cos{\\left(\\theta_{1} \\right)}\\right) \\cos{\\left(\\theta_{4} \\right)} + 3.5 \\sin{\\left(\\theta_{1} \\right)} \\sin{\\left(\\theta_{2} \\right)} \\cos{\\left(\\theta_{3} \\right)} - 3 \\sin{\\left(\\theta_{1} \\right)} \\sin{\\left(\\theta_{4} \\right)} \\cos{\\left(\\theta_{2} \\right)} + 3.5 \\sin{\\left(\\theta_{3} \\right)} \\cos{\\left(\\theta_{1} \\right)} & - 3 \\sin{\\left(\\theta_{2} \\right)} \\sin{\\left(\\theta_{4} \\right)} \\cos{\\left(\\theta_{1} \\right)} - 3 \\cos{\\left(\\theta_{1} \\right)} \\cos{\\left(\\theta_{2} \\right)} \\cos{\\left(\\theta_{3} \\right)} \\cos{\\left(\\theta_{4} \\right)} - 3.5 \\cos{\\left(\\theta_{1} \\right)} \\cos{\\left(\\theta_{2} \\right)} \\cos{\\left(\\theta_{3} \\right)} & \\left(3 \\sin{\\left(\\theta_{1} \\right)} \\cos{\\left(\\theta_{3} \\right)} + 3 \\sin{\\left(\\theta_{2} \\right)} \\sin{\\left(\\theta_{3} \\right)} \\cos{\\left(\\theta_{1} \\right)}\\right) \\cos{\\left(\\theta_{4} \\right)} + 3.5 \\sin{\\left(\\theta_{1} \\right)} \\cos{\\left(\\theta_{3} \\right)} + 3.5 \\sin{\\left(\\theta_{2} \\right)} \\sin{\\left(\\theta_{3} \\right)} \\cos{\\left(\\theta_{1} \\right)} & - \\left(3 \\sin{\\left(\\theta_{1} \\right)} \\sin{\\left(\\theta_{3} \\right)} - 3 \\sin{\\left(\\theta_{2} \\right)} \\cos{\\left(\\theta_{1} \\right)} \\cos{\\left(\\theta_{3} \\right)}\\right) \\sin{\\left(\\theta_{4} \\right)} + 3 \\cos{\\left(\\theta_{1} \\right)} \\cos{\\left(\\theta_{2} \\right)} \\cos{\\left(\\theta_{4} \\right)}\\\\0 & - 3 \\sin{\\left(\\theta_{2} \\right)} \\cos{\\left(\\theta_{3} \\right)} \\cos{\\left(\\theta_{4} \\right)} - 3.5 \\sin{\\left(\\theta_{2} \\right)} \\cos{\\left(\\theta_{3} \\right)} + 3 \\sin{\\left(\\theta_{4} \\right)} \\cos{\\left(\\theta_{2} \\right)} & - 3 \\sin{\\left(\\theta_{3} \\right)} \\cos{\\left(\\theta_{2} \\right)} \\cos{\\left(\\theta_{4} \\right)} - 3.5 \\sin{\\left(\\theta_{3} \\right)} \\cos{\\left(\\theta_{2} \\right)} & 3 \\sin{\\left(\\theta_{2} \\right)} \\cos{\\left(\\theta_{4} \\right)} - 3 \\sin{\\left(\\theta_{4} \\right)} \\cos{\\left(\\theta_{2} \\right)} \\cos{\\left(\\theta_{3} \\right)}\\end{matrix}\\right]$"
      ],
      "text/plain": [
       "Eq(Matrix([\n",
       "[(\\partial*x)/((\\partial*theta_1)), (\\partial*x)/((\\partial*theta_2)), (\\partial*x)/((\\partial*theta_3)), (\\partial*x)/((\\partial*theta_4))],\n",
       "[(\\partial*y)/((\\partial*theta_1)), (\\partial*y)/((\\partial*theta_2)), (\\partial*y)/((\\partial*theta_3)), (\\partial*y)/((\\partial*theta_4))],\n",
       "[(\\partial*z)/((\\partial*theta_1)), (\\partial*z)/((\\partial*theta_2)), (\\partial*z)/((\\partial*theta_3)), (\\partial*z)/((\\partial*theta_4))]]), Matrix([\n",
       "[(-3*sin(theta_1)*sin(theta_3) + 3*sin(theta_2)*cos(theta_1)*cos(theta_3))*cos(theta_4) - 3.5*sin(theta_1)*sin(theta_3) + 3.5*sin(theta_2)*cos(theta_1)*cos(theta_3) - 3*sin(theta_4)*cos(theta_1)*cos(theta_2),  3*sin(theta_1)*sin(theta_2)*sin(theta_4) + 3*sin(theta_1)*cos(theta_2)*cos(theta_3)*cos(theta_4) + 3.5*sin(theta_1)*cos(theta_2)*cos(theta_3), (-3*sin(theta_1)*sin(theta_2)*sin(theta_3) + 3*cos(theta_1)*cos(theta_3))*cos(theta_4) - 3.5*sin(theta_1)*sin(theta_2)*sin(theta_3) + 3.5*cos(theta_1)*cos(theta_3), -(3*sin(theta_1)*sin(theta_2)*cos(theta_3) + 3*sin(theta_3)*cos(theta_1))*sin(theta_4) - 3*sin(theta_1)*cos(theta_2)*cos(theta_4)],\n",
       "[ (3*sin(theta_1)*sin(theta_2)*cos(theta_3) + 3*sin(theta_3)*cos(theta_1))*cos(theta_4) + 3.5*sin(theta_1)*sin(theta_2)*cos(theta_3) - 3*sin(theta_1)*sin(theta_4)*cos(theta_2) + 3.5*sin(theta_3)*cos(theta_1), -3*sin(theta_2)*sin(theta_4)*cos(theta_1) - 3*cos(theta_1)*cos(theta_2)*cos(theta_3)*cos(theta_4) - 3.5*cos(theta_1)*cos(theta_2)*cos(theta_3),  (3*sin(theta_1)*cos(theta_3) + 3*sin(theta_2)*sin(theta_3)*cos(theta_1))*cos(theta_4) + 3.5*sin(theta_1)*cos(theta_3) + 3.5*sin(theta_2)*sin(theta_3)*cos(theta_1), -(3*sin(theta_1)*sin(theta_3) - 3*sin(theta_2)*cos(theta_1)*cos(theta_3))*sin(theta_4) + 3*cos(theta_1)*cos(theta_2)*cos(theta_4)],\n",
       "[                                                                                                                                                                                                             0,                                        -3*sin(theta_2)*cos(theta_3)*cos(theta_4) - 3.5*sin(theta_2)*cos(theta_3) + 3*sin(theta_4)*cos(theta_2),                                                                                           -3*sin(theta_3)*cos(theta_2)*cos(theta_4) - 3.5*sin(theta_3)*cos(theta_2),                                                            3*sin(theta_2)*cos(theta_4) - 3*sin(theta_4)*cos(theta_2)*cos(theta_3)]]))"
      ]
     },
     "execution_count": 15,
     "metadata": {},
     "output_type": "execute_result"
    }
   ],
   "source": [
    "eq_jac = Eq(left_side, jac)\n",
    "eq_jac"
   ]
  },
  {
   "cell_type": "code",
   "execution_count": 120,
   "metadata": {},
   "outputs": [],
   "source": [
    "for i,sym in enumerate((t1, t2, t3, t4)):\n",
    "    for sub, func in zip((\"s\", \"c\"), (sin, cos)):\n",
    "        eq_jac = eq_jac.replace(func(sym), symbols(f\"{sub}_{sym}\"))"
   ]
  },
  {
   "cell_type": "code",
   "execution_count": 62,
   "metadata": {},
   "outputs": [],
   "source": [
    "with open(\"forward_translation.tex\", \"w\") as f:\n",
    "    f.write(latex(full_fk[:-1, -1], mode=\"equation\", mat_delim=\"(\", mat_str=\"array\"))"
   ]
  },
  {
   "cell_type": "code",
   "execution_count": 63,
   "metadata": {},
   "outputs": [],
   "source": [
    "with open(\"forward_full.tex\", \"w\") as f:\n",
    "    f.write(latex(full_fk, mode=\"equation\", mat_delim=\"(\", mat_str=\"array\"))"
   ]
  },
  {
   "cell_type": "code",
   "execution_count": 64,
   "metadata": {},
   "outputs": [],
   "source": [
    "with open(\"jacobian.tex\", \"w\") as f:\n",
    "    f.write(latex(jac, mode=\"equation\", mat_delim=\"(\", mat_str=\"array\"))"
   ]
  },
  {
   "cell_type": "code",
   "execution_count": 53,
   "metadata": {},
   "outputs": [
    {
     "data": {
      "text/latex": [
       "$\\displaystyle \\left[\\begin{matrix}\\left(- 3 \\sin{\\left(\\theta_{1} \\right)} \\sin{\\left(\\theta_{3} \\right)} + 3 \\sin{\\left(\\theta_{2} \\right)} \\cos{\\left(\\theta_{1} \\right)} \\cos{\\left(\\theta_{3} \\right)}\\right) \\cos{\\left(\\theta_{4} \\right)} - 3.5 \\sin{\\left(\\theta_{1} \\right)} \\sin{\\left(\\theta_{3} \\right)} + 3.5 \\sin{\\left(\\theta_{2} \\right)} \\cos{\\left(\\theta_{1} \\right)} \\cos{\\left(\\theta_{3} \\right)} - 3 \\sin{\\left(\\theta_{4} \\right)} \\cos{\\left(\\theta_{1} \\right)} \\cos{\\left(\\theta_{2} \\right)} & 3 \\sin{\\left(\\theta_{1} \\right)} \\sin{\\left(\\theta_{2} \\right)} \\sin{\\left(\\theta_{4} \\right)} + 3 \\sin{\\left(\\theta_{1} \\right)} \\cos{\\left(\\theta_{2} \\right)} \\cos{\\left(\\theta_{3} \\right)} \\cos{\\left(\\theta_{4} \\right)} + 3.5 \\sin{\\left(\\theta_{1} \\right)} \\cos{\\left(\\theta_{2} \\right)} \\cos{\\left(\\theta_{3} \\right)} & \\left(- 3 \\sin{\\left(\\theta_{1} \\right)} \\sin{\\left(\\theta_{2} \\right)} \\sin{\\left(\\theta_{3} \\right)} + 3 \\cos{\\left(\\theta_{1} \\right)} \\cos{\\left(\\theta_{3} \\right)}\\right) \\cos{\\left(\\theta_{4} \\right)} - 3.5 \\sin{\\left(\\theta_{1} \\right)} \\sin{\\left(\\theta_{2} \\right)} \\sin{\\left(\\theta_{3} \\right)} + 3.5 \\cos{\\left(\\theta_{1} \\right)} \\cos{\\left(\\theta_{3} \\right)} & - \\left(3 \\sin{\\left(\\theta_{1} \\right)} \\sin{\\left(\\theta_{2} \\right)} \\cos{\\left(\\theta_{3} \\right)} + 3 \\sin{\\left(\\theta_{3} \\right)} \\cos{\\left(\\theta_{1} \\right)}\\right) \\sin{\\left(\\theta_{4} \\right)} - 3 \\sin{\\left(\\theta_{1} \\right)} \\cos{\\left(\\theta_{2} \\right)} \\cos{\\left(\\theta_{4} \\right)}\\\\\\left(3 \\sin{\\left(\\theta_{1} \\right)} \\sin{\\left(\\theta_{2} \\right)} \\cos{\\left(\\theta_{3} \\right)} + 3 \\sin{\\left(\\theta_{3} \\right)} \\cos{\\left(\\theta_{1} \\right)}\\right) \\cos{\\left(\\theta_{4} \\right)} + 3.5 \\sin{\\left(\\theta_{1} \\right)} \\sin{\\left(\\theta_{2} \\right)} \\cos{\\left(\\theta_{3} \\right)} - 3 \\sin{\\left(\\theta_{1} \\right)} \\sin{\\left(\\theta_{4} \\right)} \\cos{\\left(\\theta_{2} \\right)} + 3.5 \\sin{\\left(\\theta_{3} \\right)} \\cos{\\left(\\theta_{1} \\right)} & - 3 \\sin{\\left(\\theta_{2} \\right)} \\sin{\\left(\\theta_{4} \\right)} \\cos{\\left(\\theta_{1} \\right)} - 3 \\cos{\\left(\\theta_{1} \\right)} \\cos{\\left(\\theta_{2} \\right)} \\cos{\\left(\\theta_{3} \\right)} \\cos{\\left(\\theta_{4} \\right)} - 3.5 \\cos{\\left(\\theta_{1} \\right)} \\cos{\\left(\\theta_{2} \\right)} \\cos{\\left(\\theta_{3} \\right)} & \\left(3 \\sin{\\left(\\theta_{1} \\right)} \\cos{\\left(\\theta_{3} \\right)} + 3 \\sin{\\left(\\theta_{2} \\right)} \\sin{\\left(\\theta_{3} \\right)} \\cos{\\left(\\theta_{1} \\right)}\\right) \\cos{\\left(\\theta_{4} \\right)} + 3.5 \\sin{\\left(\\theta_{1} \\right)} \\cos{\\left(\\theta_{3} \\right)} + 3.5 \\sin{\\left(\\theta_{2} \\right)} \\sin{\\left(\\theta_{3} \\right)} \\cos{\\left(\\theta_{1} \\right)} & - \\left(3 \\sin{\\left(\\theta_{1} \\right)} \\sin{\\left(\\theta_{3} \\right)} - 3 \\sin{\\left(\\theta_{2} \\right)} \\cos{\\left(\\theta_{1} \\right)} \\cos{\\left(\\theta_{3} \\right)}\\right) \\sin{\\left(\\theta_{4} \\right)} + 3 \\cos{\\left(\\theta_{1} \\right)} \\cos{\\left(\\theta_{2} \\right)} \\cos{\\left(\\theta_{4} \\right)}\\\\0 & - 3 \\sin{\\left(\\theta_{2} \\right)} \\cos{\\left(\\theta_{3} \\right)} \\cos{\\left(\\theta_{4} \\right)} - 3.5 \\sin{\\left(\\theta_{2} \\right)} \\cos{\\left(\\theta_{3} \\right)} + 3 \\sin{\\left(\\theta_{4} \\right)} \\cos{\\left(\\theta_{2} \\right)} & - 3 \\sin{\\left(\\theta_{3} \\right)} \\cos{\\left(\\theta_{2} \\right)} \\cos{\\left(\\theta_{4} \\right)} - 3.5 \\sin{\\left(\\theta_{3} \\right)} \\cos{\\left(\\theta_{2} \\right)} & 3 \\sin{\\left(\\theta_{2} \\right)} \\cos{\\left(\\theta_{4} \\right)} - 3 \\sin{\\left(\\theta_{4} \\right)} \\cos{\\left(\\theta_{2} \\right)} \\cos{\\left(\\theta_{3} \\right)}\\end{matrix}\\right]$"
      ],
      "text/plain": [
       "Matrix([\n",
       "[(-3*sin(theta_1)*sin(theta_3) + 3*sin(theta_2)*cos(theta_1)*cos(theta_3))*cos(theta_4) - 3.5*sin(theta_1)*sin(theta_3) + 3.5*sin(theta_2)*cos(theta_1)*cos(theta_3) - 3*sin(theta_4)*cos(theta_1)*cos(theta_2),  3*sin(theta_1)*sin(theta_2)*sin(theta_4) + 3*sin(theta_1)*cos(theta_2)*cos(theta_3)*cos(theta_4) + 3.5*sin(theta_1)*cos(theta_2)*cos(theta_3), (-3*sin(theta_1)*sin(theta_2)*sin(theta_3) + 3*cos(theta_1)*cos(theta_3))*cos(theta_4) - 3.5*sin(theta_1)*sin(theta_2)*sin(theta_3) + 3.5*cos(theta_1)*cos(theta_3), -(3*sin(theta_1)*sin(theta_2)*cos(theta_3) + 3*sin(theta_3)*cos(theta_1))*sin(theta_4) - 3*sin(theta_1)*cos(theta_2)*cos(theta_4)],\n",
       "[ (3*sin(theta_1)*sin(theta_2)*cos(theta_3) + 3*sin(theta_3)*cos(theta_1))*cos(theta_4) + 3.5*sin(theta_1)*sin(theta_2)*cos(theta_3) - 3*sin(theta_1)*sin(theta_4)*cos(theta_2) + 3.5*sin(theta_3)*cos(theta_1), -3*sin(theta_2)*sin(theta_4)*cos(theta_1) - 3*cos(theta_1)*cos(theta_2)*cos(theta_3)*cos(theta_4) - 3.5*cos(theta_1)*cos(theta_2)*cos(theta_3),  (3*sin(theta_1)*cos(theta_3) + 3*sin(theta_2)*sin(theta_3)*cos(theta_1))*cos(theta_4) + 3.5*sin(theta_1)*cos(theta_3) + 3.5*sin(theta_2)*sin(theta_3)*cos(theta_1), -(3*sin(theta_1)*sin(theta_3) - 3*sin(theta_2)*cos(theta_1)*cos(theta_3))*sin(theta_4) + 3*cos(theta_1)*cos(theta_2)*cos(theta_4)],\n",
       "[                                                                                                                                                                                                             0,                                        -3*sin(theta_2)*cos(theta_3)*cos(theta_4) - 3.5*sin(theta_2)*cos(theta_3) + 3*sin(theta_4)*cos(theta_2),                                                                                           -3*sin(theta_3)*cos(theta_2)*cos(theta_4) - 3.5*sin(theta_3)*cos(theta_2),                                                            3*sin(theta_2)*cos(theta_4) - 3*sin(theta_4)*cos(theta_2)*cos(theta_3)]])"
      ]
     },
     "execution_count": 53,
     "metadata": {},
     "output_type": "execute_result"
    }
   ],
   "source": [
    "jac"
   ]
  }
 ],
 "metadata": {
  "kernelspec": {
   "display_name": "Python 3",
   "language": "python",
   "name": "python3"
  },
  "language_info": {
   "codemirror_mode": {
    "name": "ipython",
    "version": 3
   },
   "file_extension": ".py",
   "mimetype": "text/x-python",
   "name": "python",
   "nbconvert_exporter": "python",
   "pygments_lexer": "ipython3",
   "version": "3.8.5"
  }
 },
 "nbformat": 4,
 "nbformat_minor": 4
}
